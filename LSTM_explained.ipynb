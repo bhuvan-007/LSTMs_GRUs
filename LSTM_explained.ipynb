{
 "cells": [
  {
   "cell_type": "markdown",
   "metadata": {},
   "source": [
    "<b>LSTMs EXPLAINED</b>\n",
    "\n",
    "><li>This notebook tried to bridge the gap between the theoretical and practical implementation of LSTM.</li>\n",
    "><li>The theoretical explaination of LSTMs can be found here -> \n",
    "<a href=\"https://colah.github.io/posts/2015-08-Understanding-LSTMs/\">LSTM COLAH BLOG</a>.</li>\n",
    "><li>The above link gives best possible theoretical explaination of LSTMs.</li>\n",
    "\n",
    "In this notebook,\n",
    "><li>I try to explain the dimensions of the various gates,outputs and the cell states involed in LSTMs using an example.</li>\n",
    "><li>I try to explain the dimensions of the various weights matrices involved in LSTMs and parameters learnt by it.</li>\n",
    "><li>I also try to explain the parameters that affects the LSTM outputs like \"units\" , \"return_states\" and \"return_sequences\" with help of example sequence.</li>"
   ]
  },
  {
   "cell_type": "code",
   "execution_count": 345,
   "metadata": {},
   "outputs": [],
   "source": [
    "import numpy as np\n",
    "from keras.utils import plot_model\n",
    "from keras.models import Model\n",
    "from keras.layers import Input, LSTM \n",
    "from IPython.display import Image \n",
    "from keras.preprocessing.text import Tokenizer"
   ]
  },
  {
   "cell_type": "markdown",
   "metadata": {},
   "source": [
    "Fitting the tokenizer on simple corpus"
   ]
  },
  {
   "cell_type": "code",
   "execution_count": 405,
   "metadata": {},
   "outputs": [],
   "source": [
    "tokens = Tokenizer()                                                   #declare object of Tokenizer class\n",
    "tokens.fit_on_texts([\"He is a good boy\",\"She is a bad girl\",\"He is a good boy\"])  #fit on text corpus"
   ]
  },
  {
   "cell_type": "code",
   "execution_count": 406,
   "metadata": {},
   "outputs": [
    {
     "data": {
      "text/plain": [
       "{'is': 1, 'a': 2, 'he': 3, 'good': 4, 'boy': 5, 'she': 6, 'bad': 7, 'girl': 8}"
      ]
     },
     "execution_count": 406,
     "metadata": {},
     "output_type": "execute_result"
    }
   ],
   "source": [
    "tokens.word_index"
   ]
  },
  {
   "cell_type": "markdown",
   "metadata": {},
   "source": [
    "Test Example\n",
    ">We use a simple example sequence of 5 words i.e. 5 timestamps.\n",  
  ">To make things simple,Each Input word is being represented in 1 dimension only."

   ]
  },
  {
   "cell_type": "code",
   "execution_count": 326,
   "metadata": {},
   "outputs": [
    {
     "name": "stdout",
     "output_type": "stream",
     "text": [
      "5 [3, 1, 2, 7, 5]\n"
     ]
    }
   ],
   "source": [
    "encoded_sen=tokens.texts_to_sequences([\"He is a bad boy\"])\n",
    "print(len(encoded_sen[0]),encoded_sen[0])"
   ]
  },
  {
   "cell_type": "markdown",
   "metadata": {},
   "source": [
    "<b>Here is how our data looks like in encoding form<b>"
   ]
  },
  {
   "cell_type": "code",
   "execution_count": 327,
   "metadata": {},
   "outputs": [
    {
     "data": {
      "text/plain": [
       "array([[[3],\n",
       "        [1],\n",
       "        [2],\n",
       "        [7],\n",
       "        [5]]])"
      ]
     },
     "execution_count": 327,
     "metadata": {},
     "output_type": "execute_result"
    }
   ],
   "source": [
    "data=np.array(encoded_sen).reshape((1,5,1))\n",
    "data"
   ]
  },
  {
   "cell_type": "markdown",
   "metadata": {},
   "source": [
    "<b>RNN</b>\n",
    "<ul><li>\n",
    "Recurrent neural networks are a type of neural network where outputs from previous time steps are taken as inputs for the current time step.</li>\n",
    "\n",
    "\n",
    "<img src=\"RNN.png\"  />\n",
    "    \n",
    " <li>\n",
    "we can see that the network takes both the output of the network from the previous time step as input and uses the internal state from the previous time step as a starting point for the current time step.</li><ul>"
   ]
  },
  {
   "cell_type": "markdown",
   "metadata": {},
   "source": [
    "<b>LSTM</b>\n",
    "<li>Long Short Term Memory networks – usually just called “LSTMs” – are a special kind of RNN, capable of learning long-term dependencies.</li>\n",
    "> Read more about LSTM from this link:\n",
    "<a href=\"https://colah.github.io/posts/2015-08-Understanding-LSTMs/\">LSTM Colah Blog </a>\n",
    "   \n",
    "   <img src=\"LSTM_rnn.png\" />\n",
    " "
   ]
  },
  {
   "cell_type": "markdown",
   "metadata": {},
   "source": [
    "<ul><li>Here, <b>T<sub>x</sub> =5</b> . Each word of our seqeunce is passed from LSTM cell and vector <b>\"c\"</b> and <b>\"a\"</b> are generated.</li><li> The <b>\"c\"</b>  vector denotes the context information being passed from one LSTM cell to another.</li> <li> The <b>\"a\"</b> vector denotes the output generated from each cell.</li></ul>"
   ]
  },
  {
   "cell_type": "markdown",
   "metadata": {},
   "source": [
    "# Simple LSTM"
   ]
  },
  {
   "cell_type": "code",
   "execution_count": 402,
   "metadata": {},
   "outputs": [
    {
     "data": {
      "image/png": "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\n",
      "text/plain": [
       "<IPython.core.display.Image object>"
      ]
     },
     "execution_count": 402,
     "metadata": {},
     "output_type": "execute_result"
    }
   ],
   "source": [
    "inputs1 = Input(shape=(None,1))\n",
    "lstm1 = LSTM(units=3)(inputs1)\n",
    "model = Model(inputs=inputs1, outputs=lstm1)\n",
    "plot_model(model, show_shapes=True, show_layer_names=True, to_file='model.png')\n",
    "Image('model.png')"
   ]
  },
  {
   "cell_type": "markdown",
   "metadata": {},
   "source": [
    "<li>\n",
    "    Each LSTM unit will output a vector of dimensions = units.<br>\n",
    "The units parameter is also related to the dimensionality of the all the gates,cell state and outputs of cell.</br>\n",
    "</li>\n"
   ]
  },
  {
   "cell_type": "code",
   "execution_count": 407,
   "metadata": {},
   "outputs": [
    {
     "name": "stdout",
     "output_type": "stream",
     "text": [
      "[[ 0.01383725 -0.22643991 -0.77414024]]\n"
     ]
    }
   ],
   "source": [
    "print(model.predict(data))"
   ]
  },
  {
   "cell_type": "markdown",
   "metadata": {},
   "source": [
    "<li>The above predictions contains a \"3\" dimensional vector for out test observations.</li>\n",
    "<li>These are the output from last timestamp of the test observation. i.e. <b>a<sup>&lt;5&gt;</sup><b></li>"
   ]
  },
  {
   "cell_type": "markdown",
   "metadata": {},
   "source": [
    "# LSTM weights"
   ]
  },
  {
   "attachments": {},
   "cell_type": "markdown",
   "metadata": {},
   "source": [
    "Let us have a look at the weight matrix of lstm layers\n",
    "<img src=\"https://qphs.fs.quoracdn.net/main-qimg-35aed4af6522aa361ead54cb571df52a\"/>\n",
    "\n",
    "><li>F<sub>t</sub> = σ ( W<sub>f</sub> . [ H<sub>t−1</sub> , X<sub>t</sub> ] + B<sub>f</sub>) = σ ( W<sub>hf</sub> . H<sub>t−1</sub> + W<sub>xf</sub> . X<sub>t</sub> + B<sub>f</sub> )</li>\n",
    "\n",
    "><li>I<sub>t</sub> = σ ( W<sub>f</sub> . [ H<sub>t−1</sub> , X<sub>t</sub> ] + B<sub>i</sub>) = σ ( W<sub>hi</sub> . H<sub>t−1</sub> + W<sub>xi</sub> . X<sub>t</sub> + B<sub>i</sub> )</li>\n",
    "\n",
    "><li>&#126;C<sub>t</sub> = σ ( W<sub>c</sub> . [ H<sub>t−1</sub> , X<sub>t</sub> ] + B<sub>c</sub>) = σ ( W<sub>hc</sub> . H<sub>t−1</sub> + W<sub>xc</sub> . X<sub>t</sub> + B<sub>c</sub> )</li>\n",
    "\n",
    "><li>O<sub>t</sub> = σ ( W<sub>o</sub> . [ H<sub>t−1</sub> , X<sub>t</sub> ] + B<sub>o</sub>) = σ ( W<sub>ho</sub> . H<sub>t−1</sub> + W<sub>xo</sub> . X<sub>t</sub> + B<sub>o</sub> ) </li>\n",
    "\n",
    "\n",
    "\n",
    "><li>C<sub>t</sub> = F<sub>t</sub> ∗ C<sub>t−1</sub> + I<sub>t</sub> ∗ &#126;C<sub>t</sub></li>\n",
    "><li>H<sub>t</sub> = O<sub>t</sub> ∗ tanh ( C<sub>t</sub> )</li>\n",
    "\n"
   ]
  },
  {
   "cell_type": "markdown",
   "metadata": {},
   "source": [
    "Dimension of the variables used.\n","Dimensionality of our input word is 1.\n"
    "><li> <b>F<sub>t</sub></b> is a vector of size 1 x 3 with values ranging from 0 to 1.</li>\n",
    "><li><b>I<sub>t</sub></b> is a vector of size 1 x 3 with values ranging from 0 to 1.</li>\n",
    "><li><b>&#126;C<sub>t</sub></b> is a vector of size 1 x 3 with values ranging from -1 to 1.</li>\n",
    "><li><b>O<sub>t</sub></b> is a vector of size 1 x 3 with values ranging from 0 to 1.</li>"
   ]
  },
  {
   "cell_type": "markdown",
   "metadata": {},
   "source": [
    "<b> Input-Gates Weight Matrix</b><br> \n",
    "Connection between <b>input dimensions</b> and different Gates. \n",
    "><li><b>W<sub>xf</sub></b> represents connection between input dimension and forget gate. i.e. 1 &#42; 3</li>\n",
    "><li><b>W<sub>xi</sub></b> represents connection between input dimension and input gate. i.e. 1 &#42; 3</li>\n",
    "><li><b>W<sub>xc</sub></b> represents connection between input dimension and update gate. i.e. 1 &#42; 3</li>\n",
    "><li><b>W<sub>xo</sub></b> represents connection between input dimension and output gate. i.e. 1 &#42; 3</li>\n",
    "\n",
    "Connections between input dimension to gates can be concatenated into a 1 * 12 vector.\n",
    "\n",
    "Check below,"
   ]
  },
  {
   "cell_type": "code",
   "execution_count": 375,
   "metadata": {},
   "outputs": [
    {
     "name": "stdout",
     "output_type": "stream",
     "text": [
      "(1, 12)\n"
     ]
    }
   ],
   "source": [
    "print(model.layers[1].get_weights()[0].shape)"
   ]
  },
  {
   "cell_type": "markdown",
   "metadata": {},
   "source": [
    "<b> Output-Gates Weight Matrix</b><br> \n",
    "Connection between <b>output dimensions</b> and different Gates. \n",
    "><li><b>W<sub>hf</sub></b> represents connection between output dimension and forget gate. i.e. 3 &#42; 3.</li>\n",
    "><li><b>W<sub>hi</sub></b> represents connection between output dimension and input gate. i.e. 3 &#42; 3.</li>\n",
    "><li><b>W<sub>hc</sub></b> represents connection between output dimension and update gate. i.e. 3 &#42; 3.</li>\n",
    "><li><b>W<sub>ho</sub></b> represents connection between output dimension and output gate. i.e. 3 &#42; 3.</li>\n",
    "\n",
    "Connections between output dimension to gates can be concatenated into a 3 * 12 vector.\n",
    "\n",
    "Check below,"
   ]
  },
  {
   "cell_type": "code",
   "execution_count": 376,
   "metadata": {},
   "outputs": [
    {
     "name": "stdout",
     "output_type": "stream",
     "text": [
      "(3, 12)\n"
     ]
    }
   ],
   "source": [
    "print(model.layers[1].get_weights()[1].shape)"
   ]
  },
  {
   "cell_type": "markdown",
   "metadata": {},
   "source": [
    "<b> Bias Matrix</b> \n",
    "><li><b>B<sub>f</sub></b> is a vector of length 3.</li>\n",
    "><li><b>B<sub>i</sub></b> is a vector of length 3.</li>\n",
    "><li><b>B<sub>c</sub></b> is a vector of length 3.</li>\n",
    "><li><b>B<sub>o</sub></b> is a vector of length 3.</li>\n",
    "\n",
    "The Biases can be summarised into a vector of length 12.\n",
    "\n",
    "Check below,"
   ]
  },
  {
   "cell_type": "code",
   "execution_count": 271,
   "metadata": {},
   "outputs": [
    {
     "name": "stdout",
     "output_type": "stream",
     "text": [
      "(12,)\n"
     ]
    }
   ],
   "source": [
    "print(model.layers[1].get_weights()[2].shape)"
   ]
  },
  {
   "cell_type": "markdown",
   "metadata": {},
   "source": [
    "```Total Parameters learnt``` = 1 X 12 + 3 X 12 + 12 =60\n",
    "\n",
    "Check below"
   ]
  },
  {
   "cell_type": "code",
   "execution_count": 403,
   "metadata": {},
   "outputs": [
    {
     "name": "stdout",
     "output_type": "stream",
     "text": [
      "_________________________________________________________________\n",
      "Layer (type)                 Output Shape              Param #   \n",
      "=================================================================\n",
      "input_149 (InputLayer)       (None, None, 1)           0         \n",
      "_________________________________________________________________\n",
      "lstm_169 (LSTM)              (None, 3)                 60        \n",
      "=================================================================\n",
      "Total params: 60\n",
      "Trainable params: 60\n",
      "Non-trainable params: 0\n",
      "_________________________________________________________________\n"
     ]
    }
   ],
   "source": [
    "model.summary()"
   ]
  },
  {
   "cell_type": "markdown",
   "metadata": {},
   "source": [
    "# LSTM with Return Sequences=TRUE\n",
    "\n",
    "><li>useful in many cases like stacking LSTMs etc.</li>\n",
    "><li>By default , this parameter is set to <b>False</b>.</li>"
   ]
  },
  {
   "cell_type": "code",
   "execution_count": 400,
   "metadata": {},
   "outputs": [
    {
     "data": {
      "image/png": "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\n",
      "text/plain": [
       "<IPython.core.display.Image object>"
      ]
     },
     "execution_count": 400,
     "metadata": {},
     "output_type": "execute_result"
    }
   ],
   "source": [
    "lstm1 = LSTM(3,return_sequences=True)(inputs1)\n",
    "model = Model(inputs=inputs1, outputs=lstm1)\n",
    "plot_model(model, show_shapes=True, show_layer_names=True, to_file='model.png')\n",
    "Image('model.png')"
   ]
  },
  {
   "cell_type": "code",
   "execution_count": 348,
   "metadata": {},
   "outputs": [
    {
     "name": "stdout",
     "output_type": "stream",
     "text": [
      "[[[ 0.06616464  0.03154765 -0.07368939]\n",
      "  [ 0.0668094   0.11576901 -0.11126484]\n",
      "  [ 0.12126334  0.1623574  -0.13853288]\n",
      "  [ 0.19059184  0.06741437 -0.05405897]\n",
      "  [ 0.26732513  0.10644633 -0.17490788]]]\n"
     ]
    }
   ],
   "source": [
    "print(model.predict(data))"
   ]
  },
  {
   "cell_type": "markdown",
   "metadata": {},
   "source": [
    "Now, our output is a matrix of 1 &#42; 5 &#42; 3 dimensions. \n",
    "><li>The first row corresponds to <b>a<sup>&lt;1&gt;</sup></b>.</li>\n",
    "><li>The second row corresponds to <b>a<sup>&lt;2&gt;</sup></b>.</li>\n",
    "><li>The third row corresponds to <b>a<sup>&lt;3&gt;</sup></b>.</li>\n",
    "><li>The fourth row corresponds to <b>a<sup>&lt;4&gt;</sup></b>.</li>\n",
    "><li>The fifth row corresponds to <b>a<sup>&lt;5&gt;</sup></b>.</li>\n"
   ]
  },
  {
   "cell_type": "markdown",
   "metadata": {},
   "source": [
    "# LSTM with Return States = TRUE\n",
    "><li>Cell state correpsonds to <b>C <sup>&lt;Tx&gt;</sup></b> in the diagram .<br></li>\n",
    "><li>The cell state is passed from one LSTM cell to another and is reponsible for learning long-term dependencies.<br></li>\n",
    "><li>returned states can be used  to initialized with the cell state of another layers,e.g. an encoder-decoder model.</li>\n",
    "><li>By default , this parameter is set to <b>False</b>.</li>"
   ]
  },
  {
   "cell_type": "code",
   "execution_count": 349,
   "metadata": {},
   "outputs": [
    {
     "data": {
      "image/png": "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\n",
      "text/plain": [
       "<IPython.core.display.Image object>"
      ]
     },
     "execution_count": 349,
     "metadata": {},
     "output_type": "execute_result"
    }
   ],
   "source": [
    "lstm1 = LSTM(3,return_state=True)(inputs1)\n",
    "model = Model(inputs=inputs1, outputs=lstm1)\n",
    "plot_model(model, show_shapes=True, show_layer_names=True, to_file='model.png')\n",
    "Image('model.png')"
   ]
  },
  {
   "cell_type": "code",
   "execution_count": 350,
   "metadata": {},
   "outputs": [
    {
     "name": "stdout",
     "output_type": "stream",
     "text": [
      "[[-0.87246025 -0.58321357  2.4757338 ]]\n"
     ]
    }
   ],
   "source": [
    "_,_,cell_state=model.predict(data)\n",
    "print(cell_state)"
   ]
  },
  {
   "cell_type": "markdown",
   "metadata": {},
   "source": [
    "<li>For our test observation, the cell state is a vector of length 3 units.</li>\n",
    "\n",
    "<li>It corresponds to cell_state from the last timestamp.</li> \n",
    "\n",
    "<li>This corresponds to <b>C<sup>&lt;5&gt;</sup></b> in our data.</li>"
   ]
  },
  {
   "cell_type": "markdown",
   "metadata": {},
   "source": [
    "# LSTM with Return States = TRUE  and Return Sequences = TRUE "
   ]
  },
  {
   "cell_type": "code",
   "execution_count": 351,
   "metadata": {},
   "outputs": [
    {
     "data": {
      "image/png": "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\n",
      "text/plain": [
       "<IPython.core.display.Image object>"
      ]
     },
     "execution_count": 351,
     "metadata": {},
     "output_type": "execute_result"
    }
   ],
   "source": [
    "lstm1 = LSTM(3,return_state=True,return_sequences=True)(inputs1)\n",
    "model = Model(inputs=inputs1, outputs=lstm1)\n",
    "plot_model(model, show_shapes=True, show_layer_names=True, to_file='model.png')\n",
    "Image('model.png')"
   ]
  },
  {
   "cell_type": "code",
   "execution_count": 352,
   "metadata": {},
   "outputs": [
    {
     "name": "stdout",
     "output_type": "stream",
     "text": [
      "[[[0.13277583 0.09499758 0.27379602]\n",
      "  [0.23681983 0.12432223 0.33605027]\n",
      "  [0.23286061 0.19688666 0.39766863]\n",
      "  [0.01604456 0.         0.39042485]\n",
      "  [0.08942532 0.         0.45098552]]]\n",
      "\n",
      "\n",
      "[[0.08942532 0.         0.45098552]]\n",
      "\n",
      "\n",
      "[[0.66235244 0.         3.2434034 ]]\n"
     ]
    }
   ],
   "source": [
    "seq_output,lstm_output,cell_state=model.predict(data)\n",
    "print(seq_output)\n",
    "print(\"\\n\")\n",
    "print(lstm_output)\n",
    "print(\"\\n\")\n",
    "print(cell_state)"
   ]
  },
  {
   "cell_type": "markdown",
   "metadata": {},
   "source": [
    "><li>seq_output is the hidden state for each input time step.</li>\n",
    "\n",
    "><li>lstm_output is the hidden state output for the last time step.</li>\n",
    "\n",
    "><li>cell_state is the cell state for the last input time step.</li>\n",
    "\n",
    "\n",
    "\n",
    "\n",
    "<b>The Output from the last time stamp a<sup>&lt;5&gt;</sup> in seq_output is same as the output of default lstm_output.<b>\n",
    "\n",
    "Check below,"
   ]
  },
  {
   "cell_type": "code",
   "execution_count": 337,
   "metadata": {},
   "outputs": [
    {
     "name": "stdout",
     "output_type": "stream",
     "text": [
      "[[-0.00118627  0.8380598  -0.14528811]]\n",
      "\n",
      "\n",
      "[[-0.00118627  0.8380598  -0.14528811]]\n"
     ]
    }
   ],
   "source": [
    "print(seq_output[:,-1,:])\n",
    "print(\"\\n\")\n",
    "print(lstm_output)"
   ]
  },
  {
   "cell_type": "markdown",
   "metadata": {},
   "source": [
    "&emsp;&emsp;&emsp;&emsp;&emsp;&emsp;&emsp;&emsp;&emsp;&emsp;&emsp;&emsp;&emsp;&emsp;&emsp;&emsp;&emsp;&emsp;&emsp;&emsp;&emsp;&emsp;&emsp;&emsp;&emsp;&emsp;&emsp;&emsp;&emsp;&emsp;&emsp;```END!```"
   ]
  }
 ],
 "metadata": {
  "kernelspec": {
   "display_name": "Python 3",
   "language": "python",
   "name": "python3"
  },
  "language_info": {
   "codemirror_mode": {
    "name": "ipython",
    "version": 3
   },
   "file_extension": ".py",
   "mimetype": "text/x-python",
   "name": "python",
   "nbconvert_exporter": "python",
   "pygments_lexer": "ipython3",
   "version": "3.6.9"
  }
 },
 "nbformat": 4,
 "nbformat_minor": 2
}
