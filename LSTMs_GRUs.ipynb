{
 "cells": [
  {
   "cell_type": "markdown",
   "metadata": {},
   "source": [
    "<b>```LSTMs EXPLAINED```</b>\n",
    "\n",
    "><li>This notebook tried to bridge the gap between the theoretical and practical implementation of LSTM.</li>\n",
    "><li>The theoretical explaination of LSTMs can be found here -> \n",
    "<a href=\"https://colah.github.io/posts/2015-08-Understanding-LSTMs/\">LSTM COLAH BLOG</a>.</li>\n",
    "><li>The above link gives best possible theoretical explaination of LSTMs.</li>\n",
    "\n",
    "In this notebook,\n",
    "><li>I try to explain the dimensions of the various gates,outputs and the cell states involed in LSTMs using an example.</li>\n",
    "><li>I try to explain the dimensions of the various weights matrices involved in LSTMs and parameters learnt by it.</li>\n",
    "><li>I also try to explain the parameters that affects the LSTM outputs like \"units\" , \"return_states\" and \"return_sequences\" with help of example sequence.</li>"
   ]
  },
  {
   "cell_type": "code",
   "execution_count": 36,
   "metadata": {},
   "outputs": [],
   "source": [
    "import numpy as np\n",
    "from tensorflow.keras.models import Sequential,Model\n",
    "from tensorflow.keras.layers import Embedding,Dense,Bidirectional,LSTM,GRU,Input\n",
    "from tensorflow.keras.utils import plot_model\n",
    "from IPython.display import Image \n",
    "from keras.preprocessing.text import Tokenizer"
   ]
  },
  {
   "cell_type": "markdown",
   "metadata": {},
   "source": [
    "Fitting the tokenizer on simple corpus"
   ]
  },
  {
   "cell_type": "code",
   "execution_count": 37,
   "metadata": {},
   "outputs": [],
   "source": [
    "tokens = Tokenizer()                                                   #declare object of Tokenizer class\n",
    "tokens.fit_on_texts([\"He is a good boy\",\"She is a bad girl\",\"He is a good boy\"])  #fit on text corpus"
   ]
  },
  {
   "cell_type": "code",
   "execution_count": 38,
   "metadata": {},
   "outputs": [
    {
     "data": {
      "text/plain": [
       "{'is': 1, 'a': 2, 'he': 3, 'good': 4, 'boy': 5, 'she': 6, 'bad': 7, 'girl': 8}"
      ]
     },
     "execution_count": 38,
     "metadata": {},
     "output_type": "execute_result"
    }
   ],
   "source": [
    "tokens.word_index"
   ]
  },
  {
   "cell_type": "markdown",
   "metadata": {},
   "source": [
    "```Test Example```\n",
    ">We use a simple example sequence of 5 words i.e. 5 timestamps."
   ]
  },
  {
   "cell_type": "code",
   "execution_count": 119,
   "metadata": {},
   "outputs": [
    {
     "name": "stdout",
     "output_type": "stream",
     "text": [
      "5 [3, 1, 2, 7, 5]\n"
     ]
    }
   ],
   "source": [
    "encoded_sen=tokens.texts_to_sequences([\"He is a bad boy\"])\n",
    "print(len(encoded_sen[0]),encoded_sen[0])"
   ]
  },
  {
   "cell_type": "markdown",
   "metadata": {},
   "source": [
    "<b>Here is how our data looks like in encoding form<b>"
   ]
  },
  {
   "cell_type": "code",
   "execution_count": 112,
   "metadata": {},
   "outputs": [
    {
     "data": {
      "text/plain": [
       "numpy.ndarray"
      ]
     },
     "execution_count": 112,
     "metadata": {},
     "output_type": "execute_result"
    }
   ],
   "source": [
    "data=np.array(encoded_sen).reshape((1,5,1))\n",
    "type(data)"
   ]
  },
  {
   "cell_type": "code",
   "execution_count": 123,
   "metadata": {},
   "outputs": [
    {
     "data": {
      "text/plain": [
       "<tf.Tensor: shape=(1, 5, 1), dtype=int32, numpy=\n",
       "array([[[3],\n",
       "        [1],\n",
       "        [2],\n",
       "        [7],\n",
       "        [5]]], dtype=int32)>"
      ]
     },
     "execution_count": 123,
     "metadata": {},
     "output_type": "execute_result"
    }
   ],
   "source": [
    "import tensorflow as tf\n",
    "data=tf.reshape(encoded_sen,(1,5,1))\n",
    "data"
   ]
  },
  {
   "cell_type": "markdown",
   "metadata": {},
   "source": [
    "<b>```RNN```</b>\n",
    "<ul><li>\n",
    "Recurrent neural networks are a type of neural network where outputs from previous time steps are taken as inputs for the current time step.</li>\n",
    "\n",
    "\n",
    "<img src=\"RNN.png\"  />\n",
    "    \n",
    " <li>\n",
    "we can see that the network takes both the output of the network from the previous time step as input and uses the internal state from the previous time step as a starting point for the current time step.</li><ul>"
   ]
  },
  {
   "cell_type": "markdown",
   "metadata": {},
   "source": [
    "<b>```LSTM```</b>\n",
    "<li>Long Short Term Memory networks – usually just called “LSTMs” – are a special kind of RNN, capable of learning long-term dependencies.</li>\n",
    "> Read more about LSTM from this link:\n",
    "<a href=\"https://colah.github.io/posts/2015-08-Understanding-LSTMs/\">LSTM Colah Blog </a>\n",
    "   \n",
    "   <img src=\"LSTM_rnn.png\" />\n",
    " "
   ]
  },
  {
   "cell_type": "markdown",
   "metadata": {},
   "source": [
    "<ul><li>Here, <b>T<sub>x</sub> =5</b> . Each word of our seqeunce is passed from LSTM cell and vector <b>\"```c```\"</b> and <b>\"```a```\"</b> are generated.</li><li> The <b>\"```c```\"</b>  vector denotes the context information being passed from one LSTM cell to another.</li> <li> The <b>\"```a```\"</b> vector denotes the output generated from each cell.</li></ul>"
   ]
  },
  {
   "cell_type": "markdown",
   "metadata": {},
   "source": [
    "# Simple LSTM"
   ]
  },
  {
   "cell_type": "code",
   "execution_count": 121,
   "metadata": {},
   "outputs": [
    {
     "data": {
      "image/png": "[encoded data removed]",
      "text/plain": [
       "<IPython.core.display.Image object>"
      ]
     },
     "execution_count": 121,
     "metadata": {},
     "output_type": "execute_result"
    }
   ],
   "source": [
    "inputs1 = Input(shape=(None,1))\n",
    "lstm1 = LSTM(units=3)(inputs1)\n",
    "model = Model(inputs=inputs1, outputs=lstm1)\n",
    "plot_model(model, show_shapes=True, show_layer_names=True, to_file='model.png')\n",
    "Image('model.png')"
   ]
  },
  {
   "cell_type": "markdown",
   "metadata": {},
   "source": [
    "<li>\n",
    "    Each LSTM unit will output a vector of dimensions = units.<br>\n",
    "The units parameter is also related to the dimensionality of the all the gates,cell state and outputs of cell.</br>\n",
    "</li>\n"
   ]
  },
  {
   "cell_type": "code",
   "execution_count": 122,
   "metadata": {},
   "outputs": [
    {
     "name": "stdout",
     "output_type": "stream",
     "text": [
      "WARNING:tensorflow:7 out of the last 9 calls to <function Model.make_predict_function.<locals>.predict_function at 0x7fa7c27d3048> triggered tf.function retracing. Tracing is expensive and the excessive number of tracings could be due to (1) creating @tf.function repeatedly in a loop, (2) passing tensors with different shapes, (3) passing Python objects instead of tensors. For (1), please define your @tf.function outside of the loop. For (2), @tf.function has experimental_relax_shapes=True option that relaxes argument shapes that can avoid unnecessary retracing. For (3), please refer to https://www.tensorflow.org/tutorials/customization/performance#python_or_tensor_args and https://www.tensorflow.org/api_docs/python/tf/function for  more details.\n",
      "[[ 0.52061695  0.07725253 -0.16408208]]\n"
     ]
    }
   ],
   "source": [
    "print(model.predict(data))"
   ]
  },
  {
   "cell_type": "markdown",
   "metadata": {},
   "source": [
    "<li>The above predictions contains a \"3\" dimensional vector for out test observations.</li>\n",
    "<li>These are the output from last timestamp of the test observation. i.e. <b>```a```<sup>&lt;```5```&gt;</sup><b></li>"
   ]
  },
  {
   "cell_type": "markdown",
   "metadata": {},
   "source": [
    "# LSTM weights"
   ]
  },
  {
   "cell_type": "markdown",
   "metadata": {},
   "source": [
    "Let us have a look at the weight matrix of lstm layers\n",
    "<img src=\"https://qphs.fs.quoracdn.net/main-qimg-35aed4af6522aa361ead54cb571df52a\"/>\n",
    "\n",
    "><li>F<sub>t</sub> = σ ( W<sub>f</sub> . [ H<sub>t−1</sub> , X<sub>t</sub> ] + B<sub>f</sub>) = σ ( W<sub>hf</sub> . H<sub>t−1</sub> + W<sub>xf</sub> . X<sub>t</sub> + B<sub>f</sub> )</li>\n",
    "\n",
    "><li>I<sub>t</sub> = σ ( W<sub>f</sub> . [ H<sub>t−1</sub> , X<sub>t</sub> ] + B<sub>i</sub>) = σ ( W<sub>hi</sub> . H<sub>t−1</sub> + W<sub>xi</sub> . X<sub>t</sub> + B<sub>i</sub> )</li>\n",
    "\n",
    "><li>&#126;C<sub>t</sub> = tanh ( W<sub>c</sub> . [ H<sub>t−1</sub> , X<sub>t</sub> ] + B<sub>c</sub>) = tanh ( W<sub>hc</sub> . H<sub>t−1</sub> + W<sub>xc</sub> . X<sub>t</sub> + B<sub>c</sub> )</li>\n",
    "\n",
    "><li>O<sub>t</sub> = σ ( W<sub>o</sub> . [ H<sub>t−1</sub> , X<sub>t</sub> ] + B<sub>o</sub>) = σ ( W<sub>ho</sub> . H<sub>t−1</sub> + W<sub>xo</sub> . X<sub>t</sub> + B<sub>o</sub> ) </li>\n",
    "\n",
    "\n",
    "\n",
    "><li>C<sub>t</sub> = F<sub>t</sub> ∗ C<sub>t−1</sub> + I<sub>t</sub> ∗ &#126;C<sub>t</sub></li>\n",
    "><li>H<sub>t</sub> = O<sub>t</sub> ∗ tanh ( C<sub>t</sub> )</li>\n",
    "\n"
   ]
  },
  {
   "cell_type": "markdown",
   "metadata": {},
   "source": [
    "Dimension of the variables used.\n",
    "><li> <b>F<sub>t</sub></b> is a vector of size 1 x 3 with values ranging from 0 to 1.</li>\n",
    "><li><b>I<sub>t</sub></b> is a vector of size 1 x 3 with values ranging from 0 to 1.</li>\n",
    "><li><b>&#126;C<sub>t</sub></b> is a vector of size 1 x 3 with values ranging from -1 to 1.</li>\n",
    "><li><b>O<sub>t</sub></b> is a vector of size 1 x 3 with values ranging from 0 to 1.</li>"
   ]
  },
  {
   "cell_type": "markdown",
   "metadata": {},
   "source": [
    "<b> Input-Gates Weight Matrix</b><br> \n",
    "Connection between <b>input dimensions</b> and different Gates. \n",
    "><li><b>W<sub>xf</sub></b> represents connection between input dimension and forget gate. i.e. 1 &#42; 3</li>\n",
    "><li><b>W<sub>xi</sub></b> represents connection between input dimension and input gate. i.e. 1 &#42; 3</li>\n",
    "><li><b>W<sub>xc</sub></b> represents connection between input dimension and update gate. i.e. 1 &#42; 3</li>\n",
    "><li><b>W<sub>xo</sub></b> represents connection between input dimension and output gate. i.e. 1 &#42; 3</li>\n",
    "\n",
    "Connections between input dimension to gates can be concatenated into a 1 * 12 vector.\n",
    "\n",
    "Check below,"
   ]
  },
  {
   "cell_type": "code",
   "execution_count": 77,
   "metadata": {},
   "outputs": [
    {
     "name": "stdout",
     "output_type": "stream",
     "text": [
      "(1, 12)\n"
     ]
    }
   ],
   "source": [
    "print(model.layers[1].get_weights()[0].shape)"
   ]
  },
  {
   "cell_type": "markdown",
   "metadata": {},
   "source": [
    "<b> Output-Gates Weight Matrix</b><br> \n",
    "Connection between <b>output dimensions</b> and different Gates. \n",
    "><li><b>W<sub>hf</sub></b> represents connection between output dimension and forget gate. i.e. 3 &#42; 3.</li>\n",
    "><li><b>W<sub>hi</sub></b> represents connection between output dimension and input gate. i.e. 3 &#42; 3.</li>\n",
    "><li><b>W<sub>hc</sub></b> represents connection between output dimension and update gate. i.e. 3 &#42; 3.</li>\n",
    "><li><b>W<sub>ho</sub></b> represents connection between output dimension and output gate. i.e. 3 &#42; 3.</li>\n",
    "\n",
    "Connections between output dimension to gates can be concatenated into a 3 * 12 vector.\n",
    "\n",
    "Check below,"
   ]
  },
  {
   "cell_type": "code",
   "execution_count": 78,
   "metadata": {},
   "outputs": [
    {
     "name": "stdout",
     "output_type": "stream",
     "text": [
      "(3, 12)\n"
     ]
    }
   ],
   "source": [
    "print(model.layers[1].get_weights()[1].shape)"
   ]
  },
  {
   "cell_type": "markdown",
   "metadata": {},
   "source": [
    "<b> Bias Matrix</b> \n",
    "><li><b>B<sub>f</sub></b> is a vector of length 3.</li>\n",
    "><li><b>B<sub>i</sub></b> is a vector of length 3.</li>\n",
    "><li><b>B<sub>c</sub></b> is a vector of length 3.</li>\n",
    "><li><b>B<sub>o</sub></b> is a vector of length 3.</li>\n",
    "\n",
    "The Biases can be summarised into a vector of length 12.\n",
    "\n",
    "Check below,"
   ]
  },
  {
   "cell_type": "code",
   "execution_count": 79,
   "metadata": {},
   "outputs": [
    {
     "name": "stdout",
     "output_type": "stream",
     "text": [
      "(12,)\n"
     ]
    }
   ],
   "source": [
    "print(model.layers[1].get_weights()[2].shape)"
   ]
  },
  {
   "cell_type": "markdown",
   "metadata": {},
   "source": [
    "```Total Parameters learnt``` = 1 X 12 + 3 X 12 + 12 =60\n",
    "\n",
    "Check below"
   ]
  },
  {
   "cell_type": "code",
   "execution_count": 80,
   "metadata": {},
   "outputs": [
    {
     "name": "stdout",
     "output_type": "stream",
     "text": [
      "Model: \"functional_21\"\n",
      "_________________________________________________________________\n",
      "Layer (type)                 Output Shape              Param #   \n",
      "=================================================================\n",
      "input_13 (InputLayer)        [(None, None, 1)]         0         \n",
      "_________________________________________________________________\n",
      "lstm_5 (LSTM)                (None, 3)                 60        \n",
      "=================================================================\n",
      "Total params: 60\n",
      "Trainable params: 60\n",
      "Non-trainable params: 0\n",
      "_________________________________________________________________\n"
     ]
    }
   ],
   "source": [
    "model.summary()"
   ]
  },
  {
   "cell_type": "markdown",
   "metadata": {},
   "source": [
    "# LSTM with Return Sequences=TRUE\n",
    "\n",
    "><li>useful in many cases like stacking LSTMs etc.</li>\n",
    "><li>By default , this parameter is set to <b>False</b>.</li>"
   ]
  },
  {
   "cell_type": "code",
   "execution_count": 81,
   "metadata": {},
   "outputs": [
    {
     "data": {
      "image/png": "[encoded data removed]",
      "text/plain": [
       "<IPython.core.display.Image object>"
      ]
     },
     "execution_count": 81,
     "metadata": {},
     "output_type": "execute_result"
    }
   ],
   "source": [
    "lstm1 = LSTM(3,return_sequences=True)(inputs1)\n",
    "model = Model(inputs=inputs1, outputs=lstm1)\n",
    "plot_model(model, show_shapes=True, show_layer_names=True, to_file='model.png')\n",
    "Image('model.png')"
   ]
  },
  {
   "cell_type": "code",
   "execution_count": 83,
   "metadata": {},
   "outputs": [
    {
     "name": "stdout",
     "output_type": "stream",
     "text": [
      "[[[-0.15186618  0.32469437  0.12867232]\n",
      "  [-0.22093055  0.268203    0.25010505]\n",
      "  [-0.29267725  0.33245826  0.25878197]\n",
      "  [-0.3528403   0.5575096   0.06633353]\n",
      "  [-0.39980075  0.5508986   0.13358133]]]\n"
     ]
    }
   ],
   "source": [
    "print(model.predict(data))"
   ]
  },
  {
   "cell_type": "markdown",
   "metadata": {},
   "source": [
    "Now, our output is a matrix of 1 &#42; 5 &#42; 3 dimensions. \n",
    "><li>The first row corresponds to <b>```a```<sup>&lt;```1```&gt;</sup></b>.</li>\n",
    "><li>The second row corresponds to <b>```a```<sup>&lt;```2```&gt;</sup></b>.</li>\n",
    "><li>The third row corresponds to <b>```a```<sup>&lt;```3```&gt;</sup></b>.</li>\n",
    "><li>The fourth row corresponds to <b>```a```<sup>&lt;```4```&gt;</sup></b>.</li>\n",
    "><li>The fifth row corresponds to <b>```a```<sup>&lt;```5```&gt;</sup></b>.</li>\n"
   ]
  },
  {
   "cell_type": "markdown",
   "metadata": {},
   "source": [
    "# LSTM with Return States = TRUE\n",
    "><li>Cell state correpsonds to <b>C <sup>&lt;Tx&gt;</sup></b> in the diagram .<br></li>\n",
    "><li>The cell state is passed from one LSTM cell to another and is reponsible for learning long-term dependencies.<br></li>\n",
    "><li>returned states can be used  to initialized with the cell state of another layers,e.g. an encoder-decoder model.</li>\n",
    "><li>By default , this parameter is set to <b>False</b>.</li>"
   ]
  },
  {
   "cell_type": "code",
   "execution_count": 84,
   "metadata": {},
   "outputs": [
    {
     "data": {
      "image/png": "[encoded data removed]",
      "text/plain": [
       "<IPython.core.display.Image object>"
      ]
     },
     "execution_count": 84,
     "metadata": {},
     "output_type": "execute_result"
    }
   ],
   "source": [
    "lstm1 = LSTM(3,return_state=True)(inputs1)\n",
    "model = Model(inputs=inputs1, outputs=lstm1)\n",
    "plot_model(model, show_shapes=True, show_layer_names=True, to_file='model.png')\n",
    "Image('model.png')"
   ]
  },
  {
   "cell_type": "code",
   "execution_count": 85,
   "metadata": {},
   "outputs": [
    {
     "name": "stdout",
     "output_type": "stream",
     "text": [
      "[[-2.0118687  -1.5934069   0.20593193]]\n"
     ]
    }
   ],
   "source": [
    "_,_,cell_state=model.predict(data)\n",
    "print(cell_state)"
   ]
  },
  {
   "cell_type": "code",
   "execution_count": 86,
   "metadata": {},
   "outputs": [
    {
     "data": {
      "text/plain": [
       "[array([[-0.14635403, -0.15192625,  0.05820853]], dtype=float32),\n",
       " array([[-0.14635403, -0.15192625,  0.05820853]], dtype=float32),\n",
       " array([[-2.0118687 , -1.5934069 ,  0.20593193]], dtype=float32)]"
      ]
     },
     "execution_count": 86,
     "metadata": {},
     "output_type": "execute_result"
    }
   ],
   "source": [
    "model.predict(data)"
   ]
  },
  {
   "cell_type": "code",
   "execution_count": 87,
   "metadata": {},
   "outputs": [
    {
     "name": "stdout",
     "output_type": "stream",
     "text": [
      "(1, 3) (1, 3) [[-2.0118687  -1.5934069   0.20593193]]\n"
     ]
    }
   ],
   "source": [
    "a,b,cell_state=model.predict(data)\n",
    "print(a.shape,b.shape,cell_state)"
   ]
  },
  {
   "cell_type": "markdown",
   "metadata": {},
   "source": [
    "<li>For our test observation, the cell state is a vector of length 3 units.</li>\n",
    "\n",
    "<li>It corresponds to cell_state from the last timestamp.</li> \n",
    "\n",
    "<li>This corresponds to <b>```C```<sup>&lt;```5```&gt;</sup></b> in our data.</li>"
   ]
  },
  {
   "cell_type": "markdown",
   "metadata": {},
   "source": [
    "# LSTM with Return States = TRUE  and Return Sequences = TRUE "
   ]
  },
  {
   "cell_type": "code",
   "execution_count": 88,
   "metadata": {},
   "outputs": [
    {
     "data": {
      "image/png": "[encoded data removed]",
      "text/plain": [
       "<IPython.core.display.Image object>"
      ]
     },
     "execution_count": 88,
     "metadata": {},
     "output_type": "execute_result"
    }
   ],
   "source": [
    "lstm1 = LSTM(3,return_state=True,return_sequences=True)(inputs1)\n",
    "model = Model(inputs=inputs1, outputs=lstm1)\n",
    "plot_model(model, show_shapes=True, show_layer_names=True, to_file='model.png')\n",
    "Image('model.png')"
   ]
  },
  {
   "cell_type": "code",
   "execution_count": 89,
   "metadata": {},
   "outputs": [
    {
     "name": "stdout",
     "output_type": "stream",
     "text": [
      "WARNING:tensorflow:5 out of the last 7 calls to <function Model.make_predict_function.<locals>.predict_function at 0x7fa7c053cd90> triggered tf.function retracing. Tracing is expensive and the excessive number of tracings could be due to (1) creating @tf.function repeatedly in a loop, (2) passing tensors with different shapes, (3) passing Python objects instead of tensors. For (1), please define your @tf.function outside of the loop. For (2), @tf.function has experimental_relax_shapes=True option that relaxes argument shapes that can avoid unnecessary retracing. For (3), please refer to https://www.tensorflow.org/tutorials/customization/performance#python_or_tensor_args and https://www.tensorflow.org/api_docs/python/tf/function for  more details.\n",
      "[[[-0.41338167 -0.15691943 -0.2797016 ]\n",
      "  [-0.39712286 -0.15880443 -0.20981514]\n",
      "  [-0.55528235 -0.27059194 -0.2451846 ]\n",
      "  [-0.7026329  -0.52687716 -0.28858808]\n",
      "  [-0.71129465 -0.628194   -0.2655347 ]]]\n",
      "\n",
      "\n",
      "[[-0.71129465 -0.628194   -0.2655347 ]]\n",
      "\n",
      "\n",
      "[[-0.9336177  -0.81564534 -0.84933513]]\n"
     ]
    }
   ],
   "source": [
    "seq_output,lstm_output,cell_state=model.predict(data)\n",
    "print(seq_output)\n",
    "print(\"\\n\")\n",
    "print(lstm_output)\n",
    "print(\"\\n\")\n",
    "print(cell_state)"
   ]
  },
  {
   "cell_type": "markdown",
   "metadata": {},
   "source": [
    "><li>seq_output is the hidden state for each input time step.</li>\n",
    "\n",
    "><li>lstm_output is the hidden state output for the last time step.</li>\n",
    "\n",
    "><li>cell_state is the cell state for the last input time step.</li>\n",
    "\n",
    "\n",
    "\n",
    "\n",
    "<b>The Output from the last time stamp ```a```<sup>&lt;```5```&gt;</sup> in seq_output is same as the output of default lstm_output.<b>\n",
    "\n",
    "Check below,"
   ]
  },
  {
   "cell_type": "code",
   "execution_count": 90,
   "metadata": {},
   "outputs": [
    {
     "name": "stdout",
     "output_type": "stream",
     "text": [
      "[[-0.71129465 -0.628194   -0.2655347 ]]\n",
      "\n",
      "\n",
      "[[-0.71129465 -0.628194   -0.2655347 ]]\n"
     ]
    }
   ],
   "source": [
    "print(seq_output[:,-1,:])\n",
    "print(\"\\n\")\n",
    "print(lstm_output)"
   ]
  },
  {
   "cell_type": "markdown",
   "metadata": {},
   "source": [
    "# GRU\n",
    "\n",
    "> <img src=\"https://colah.github.io/posts/2015-08-Understanding-LSTMs/img/LSTM3-var-GRU.png\" />\n",
    "><li>It combines the forget and input gates into a single “update gate.” </li>\n",
    "><li>It also merges the cell state and hidden state, and makes some other changes.</li>"
   ]
  },
  {
   "cell_type": "code",
   "execution_count": 106,
   "metadata": {},
   "outputs": [
    {
     "data": {
      "image/png": "[encoded data removed]",
      "text/plain": [
       "<IPython.core.display.Image object>"
      ]
     },
     "execution_count": 106,
     "metadata": {},
     "output_type": "execute_result"
    }
   ],
   "source": [
    "inputs1 = Input(shape=(None,2))\n",
    "gru = GRU(3,return_sequences=True)(inputs1)\n",
    "gru_model = Model(inputs=inputs1, outputs=gru)\n",
    "plot_model(gru_model, show_shapes=True, show_layer_names=True, to_file='GRU.png')\n",
    "Image('GRU.png')"
   ]
  },
  {
   "cell_type": "code",
   "execution_count": 107,
   "metadata": {},
   "outputs": [
    {
     "name": "stdout",
     "output_type": "stream",
     "text": [
      "(2, 9)\n",
      "(3, 9)\n",
      "(2, 9)\n"
     ]
    }
   ],
   "source": [
    "print(gru_model.layers[1].get_weights()[0].shape)\n",
    "print(gru_model.layers[1].get_weights()[1].shape)\n",
    "print(gru_model.layers[1].get_weights()[2].shape)"
   ]
  },
  {
   "cell_type": "markdown",
   "metadata": {},
   "source": [
    "```Total Parameters learnt``` = 2 X 9 + 3 X 9 + 2 X 9 = 63\n",
    "\n",
    "Check below"
   ]
  },
  {
   "cell_type": "code",
   "execution_count": 108,
   "metadata": {},
   "outputs": [
    {
     "name": "stdout",
     "output_type": "stream",
     "text": [
      "Model: \"functional_41\"\n",
      "_________________________________________________________________\n",
      "Layer (type)                 Output Shape              Param #   \n",
      "=================================================================\n",
      "input_20 (InputLayer)        [(None, None, 2)]         0         \n",
      "_________________________________________________________________\n",
      "gru_11 (GRU)                 (None, None, 3)           63        \n",
      "=================================================================\n",
      "Total params: 63\n",
      "Trainable params: 63\n",
      "Non-trainable params: 0\n",
      "_________________________________________________________________\n"
     ]
    }
   ],
   "source": [
    "gru_model.summary()"
   ]
  },
  {
   "cell_type": "markdown",
   "metadata": {},
   "source": [
    "# BIDIRECTIONAL GRU"
   ]
  },
  {
   "cell_type": "code",
   "execution_count": 109,
   "metadata": {},
   "outputs": [
    {
     "data": {
      "image/png": "[encoded data removed]",
      "text/plain": [
       "<IPython.core.display.Image object>"
      ]
     },
     "execution_count": 109,
     "metadata": {},
     "output_type": "execute_result"
    }
   ],
   "source": [
    "inputs1 = Input(shape=(None,2))\n",
    "bi_gru = Bidirectional(GRU(3,return_sequences=True))(inputs1)\n",
    "bi_gru_model = Model(inputs=inputs1, outputs=bi_gru)\n",
    "plot_model(bi_gru_model, show_shapes=True, show_layer_names=True, to_file='GRU.png')\n",
    "Image('GRU.png')"
   ]
  },
  {
   "cell_type": "code",
   "execution_count": 110,
   "metadata": {},
   "outputs": [
    {
     "name": "stdout",
     "output_type": "stream",
     "text": [
      "(2, 9)\n",
      "(3, 9)\n",
      "(2, 9)\n",
      "(2, 9)\n",
      "(3, 9)\n",
      "(2, 9)\n"
     ]
    }
   ],
   "source": [
    "for i,layer in enumerate(bi_gru_model.layers):\n",
    "    for j in  bi_gru_model.layers[i].get_weights():\n",
    "        print(j.shape)"
   ]
  },
  {
   "cell_type": "markdown",
   "metadata": {},
   "source": [
    "```Total Parameters learnt``` = 2 * (2 X 9 + 3 X 9 + 2 X 9 )= 126\n",
    "\n",
    "Check below"
   ]
  },
  {
   "cell_type": "code",
   "execution_count": 111,
   "metadata": {},
   "outputs": [
    {
     "name": "stdout",
     "output_type": "stream",
     "text": [
      "Model: \"functional_43\"\n",
      "_________________________________________________________________\n",
      "Layer (type)                 Output Shape              Param #   \n",
      "=================================================================\n",
      "input_21 (InputLayer)        [(None, None, 2)]         0         \n",
      "_________________________________________________________________\n",
      "bidirectional_7 (Bidirection (None, None, 6)           126       \n",
      "=================================================================\n",
      "Total params: 126\n",
      "Trainable params: 126\n",
      "Non-trainable params: 0\n",
      "_________________________________________________________________\n"
     ]
    }
   ],
   "source": [
    "bi_gru_model.summary()"
   ]
  },
  {
   "cell_type": "markdown",
   "metadata": {},
   "source": [
    "# BIDIRECTIONAL LSTM"
   ]
  },
  {
   "cell_type": "code",
   "execution_count": 100,
   "metadata": {},
   "outputs": [
    {
     "data": {
      "image/png": "[encoded data removed]",
      "text/plain": [
       "<IPython.core.display.Image object>"
      ]
     },
     "execution_count": 100,
     "metadata": {},
     "output_type": "execute_result"
    }
   ],
   "source": [
    "inputs1 = Input(shape=(None,2))              # Input Layer with 2 dimensions\n",
    "bi_lstm = Bidirectional(LSTM(3))(inputs1)\n",
    "bi_lstm_model = Model(inputs=inputs1, outputs=bi_lstm)\n",
    "plot_model(bi_lstm_model, show_shapes=True, show_layer_names=True, to_file='model.png')\n",
    "Image('model.png')"
   ]
  },
  {
   "cell_type": "code",
   "execution_count": 101,
   "metadata": {},
   "outputs": [
    {
     "name": "stdout",
     "output_type": "stream",
     "text": [
      "(2, 12)\n",
      "(3, 12)\n",
      "(12,)\n",
      "(2, 12)\n",
      "(3, 12)\n",
      "(12,)\n"
     ]
    }
   ],
   "source": [
    "for i,layer in enumerate(bi_lstm_model.layers):\n",
    "    for j in  bi_lstm_model.layers[i].get_weights():\n",
    "        print(j.shape)"
   ]
  },
  {
   "cell_type": "markdown",
   "metadata": {},
   "source": [
    "```Total Parameters learnt``` = 2 * ( 2 X 12 + 3 X 12 + 12 ) = 144\n",
    "\n",
    "Check below"
   ]
  },
  {
   "cell_type": "code",
   "execution_count": 99,
   "metadata": {},
   "outputs": [
    {
     "name": "stdout",
     "output_type": "stream",
     "text": [
      "Model: \"functional_33\"\n",
      "_________________________________________________________________\n",
      "Layer (type)                 Output Shape              Param #   \n",
      "=================================================================\n",
      "input_16 (InputLayer)        [(None, None, 2)]         0         \n",
      "_________________________________________________________________\n",
      "bidirectional_3 (Bidirection (None, 6)                 144       \n",
      "=================================================================\n",
      "Total params: 144\n",
      "Trainable params: 144\n",
      "Non-trainable params: 0\n",
      "_________________________________________________________________\n"
     ]
    }
   ],
   "source": [
    "bi_lstm_model.summary()"
   ]
  },
  {
   "cell_type": "markdown",
   "metadata": {},
   "source": [
    "# Peephole Connections\n",
    "\n",
    "><img src=\"https://colah.github.io/posts/2015-08-Understanding-LSTMs/img/LSTM3-var-peepholes.png\" />\n",
    "><li>we let the gate layers look at the cell state. </li>"
   ]
  },
  {
   "cell_type": "markdown",
   "metadata": {},
   "source": [
    "# coupled forget and input gates\n",
    "><img src=\"https://colah.github.io/posts/2015-08-Understanding-LSTMs/img/LSTM3-var-tied.png\" />\n",
    "><li>Instead of separately deciding what to forget and what we should add new information to, we make those decisions together.</li>\n",
    "><li>We only forget when we’re going to input something in its place.</li>\n",
    "><li>We only input new values to the state when we forget something older.</li>"
   ]
  },
  {
   "cell_type": "markdown",
   "metadata": {},
   "source": [
    "&emsp;&emsp;&emsp;&emsp;&emsp;&emsp;&emsp;&emsp;&emsp;&emsp;&emsp;&emsp;&emsp;&emsp;&emsp;&emsp;&emsp;&emsp;&emsp;&emsp;&emsp;&emsp;&emsp;&emsp;&emsp;&emsp;&emsp;&emsp;&emsp;&emsp;&emsp;```END!```"
   ]
  }
 ],
 "metadata": {
  "kernelspec": {
   "display_name": "Python 3",
   "language": "python",
   "name": "python3"
  },
  "language_info": {
   "codemirror_mode": {
    "name": "ipython",
    "version": 3
   },
   "file_extension": ".py",
   "mimetype": "text/x-python",
   "name": "python",
   "nbconvert_exporter": "python",
   "pygments_lexer": "ipython3",
   "version": "3.6.9"
  }
 },
 "nbformat": 4,
 "nbformat_minor": 2
}
